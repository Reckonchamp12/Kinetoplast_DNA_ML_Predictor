{
 "cells": [
  {
   "cell_type": "markdown",
   "metadata": {},
   "source": [
    "# Model Evaluation\n",
    "\n",
    "This notebook is used to evaluate Random Forest and Gradient Boosting models trained on extracted kinetoplast DNA features.\n",
    "\n",
    "_Note: This is a placeholder notebook. Load test data and models to compute metrics like MAE, RMSE, and R²._"
   ]
  }
 ],
 "metadata": {
  "kernelspec": {
   "display_name": "Python 3",
   "language": "python",
   "name": "python3"
  },
  "language_info": {
   "name": "python",
   "version": ""
  }
 },
 "nbformat": 4,
 "nbformat_minor": 5
}
